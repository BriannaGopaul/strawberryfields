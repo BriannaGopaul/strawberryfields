{
 "cells": [
  {
   "cell_type": "markdown",
   "metadata": {},
   "source": [
    "\n",
    "<img align=\"right\" src=\"https://i.imgur.com/cHp1Owf.gif\">\n",
    "\n",
    "# Quantum state learning\n",
    "\n",
    "*Author: Josh Izaac*\n",
    "\n",
    "This notebook works through the process used to produce the state preparation results presented in [\"Machine learning method for state preparation and gate synthesis on photonic quantum computers\"](https://arxiv.org/abs/1807.10781).\n",
    "\n",
    "We use the continuous-variable (CV) quantum optical circuit package [Strawberry Fields](https://github.com/XanaduAI/strawberryfields), and in particular its TensorFlow backend, to perform quantum circuit optimization. By leveraging Tensorflow, we have access to a number of additional funtionalities, including GPU integration, automatic gradient computation, built-in optimization algorithms, and other machine learning tools."
   ]
  },
  {
   "cell_type": "markdown",
   "metadata": {},
   "source": [
    "## Variational quantum circuits"
   ]
  },
  {
   "cell_type": "markdown",
   "metadata": {},
   "source": [
    "A key element of machine learning is optimization. We can use Tensorflow’s automatic differentiation tools to optimize the parameters of variational quantum circuits constructed using Strawberry Fields. In this approach, we fix a circuit architecture where the states, gates, and/or measurements may have learnable parameters $\\vec{\\theta}$ associated with them. We then define a loss function based on the output state of this circuit. In this case, we define a loss function such that the fidelity of the output state of the variational circuit is maximized with respect to some target state. For more details on the TensorFlow backend in Strawberry Fields, please see the [Strawberry Fields documentation](http://strawberryfields.readthedocs.io/en/stable/tutorials/tutorial_machine_learning.html).\n",
    "\n",
    "For arbitrary state preparation using optimization, we need to make use of a quantum circuit with a layer structure that is **universal** - that is, by 'stacking' the layers, we can guarantee that we can produce *any* CV state with at-most polynomial overhead. Therefore, the architecture we choose must consist of layers with each layer containing parameterized Gaussian *and* non-Gaussian gates. **The non-Gaussian gates provide both the nonlinearity and the universality of the model.** To this end, we employ the CV quantum neural network architecture described below:\n",
    "\n",
    "![layer](https://i.imgur.com/NEsaVIX.png)\n",
    "\n",
    "Here,\n",
    "\n",
    "\n",
    "* $\\mathcal{U}_i(\\theta_i,\\phi_i)$ is an N-mode linear optical interferometer composed of two-mode beamsplitters $BS(\\theta,\\phi)$ and single-mode rotation gates $R(\\phi)=e^{i\\phi\\hat{n}}$,\n",
    "\n",
    "* $\\mathcal{D}(\\alpha_i)$ are single mode displacements in the phase space by complex value $\\alpha_i$,\n",
    "\n",
    "* $\\mathcal{S}(r_i, \\phi_i)$ are single mode squeezing operations of magnitude $r_i$ and phase $\\phi_i$, and\n",
    "\n",
    "* $\\Phi(\\lambda_i)$ is a single mode non-Gaussian operation, in this case chosen to be the Kerr interaction $\\mathcal{K}(\\kappa_i)=e^{i\\kappa_i\\hat{n}^2}$ of strength $\\kappa_i$.\n",
    "\n",
    "<br/>\n",
    "\n",
    "<div class=\"alert alert-success\" style=\"border: 0px; border-left: 3px solid #119a68; color: black; background-color: #daf0e9\">\n",
    "<p style=\"color: #119a68;\"><strong>Reference</strong></p>Killoran, N., Bromley, T. R., Arrazola, J. M., Schuld, M., Quesada, N., & Lloyd, S. (2018). \"Continuous-variable quantum neural networks.\" <a href=https://arxiv.org/abs/1806.06871>arXiv:1806.06871</a>.\n",
    "</div>"
   ]
  },
  {
   "cell_type": "markdown",
   "metadata": {},
   "source": [
    "## Hyperparameters\n",
    "\n",
    "\n",
    "First, we must define the **hyperparameters** of our layer structure:\n",
    "\n",
    "* `cutoff`: the simulation Fock space truncation we will use in the optimization. The TensorFlow backend will perform numerical operations in this truncated Fock space when performing the optimization.\n",
    "\n",
    "\n",
    "* `depth`: The number of layer ansatz in our variational quantum circuit. As a general rule, increasing the number of layers (and thus, the number of parameters we are optimizing over) increases the optimizers chance of finding a reasonable local minimum in the optimization landscape.\n",
    "\n",
    "\n",
    "* `reps`: the number of steps in the optimization routine performing gradient descent\n",
    "\n",
    "Some other optional hyperparameters include:\n",
    "\n",
    "* The standard deviation of initial parameters. Note that we make a distinction between the standard deviation of *passive* parameters (those that preserve photon number when changed, such as phase parameters), and *active* parameters (those that introduce or remove energy from the system when changed)."
   ]
  },
  {
   "cell_type": "code",
   "execution_count": 1,
   "metadata": {
    "collapsed": true
   },
   "outputs": [],
   "source": [
    "# Cutoff dimension\n",
    "cutoff = 10\n",
    "\n",
    "# Number of layers\n",
    "depth = 20\n",
    "\n",
    "# Number of steps in optimization routine performing gradient descent\n",
    "reps = 1000\n",
    "\n",
    "# Standard deviation of initial parameters\n",
    "passive_sd = 0.1\n",
    "active_sd = 0.001"
   ]
  },
  {
   "cell_type": "markdown",
   "metadata": {},
   "source": [
    "## The layer parameters $\\vec{\\theta}$\n",
    "\n",
    "We use TensorFlow to create the variables corresponding to the gate parameters. Note that each variable has shape `[depth]`, with each individual element representing the gate parameter in layer $i$."
   ]
  },
  {
   "cell_type": "code",
   "execution_count": 2,
   "metadata": {
    "collapsed": true
   },
   "outputs": [],
   "source": [
    "import tensorflow as tf"
   ]
  },
  {
   "cell_type": "code",
   "execution_count": 3,
   "metadata": {
    "collapsed": true
   },
   "outputs": [],
   "source": [
    "# squeeze gate\n",
    "sq_r = tf.Variable(tf.random_normal(shape=[depth], stddev=active_sd))\n",
    "sq_phi = tf.Variable(tf.random_normal(shape=[depth], stddev=passive_sd))\n",
    "\n",
    "# displacement gate\n",
    "d_r = tf.Variable(tf.random_normal(shape=[depth], stddev=active_sd))\n",
    "d_phi = tf.Variable(tf.random_normal(shape=[depth], stddev=passive_sd))\n",
    "\n",
    "# rotation gates\n",
    "r1 = tf.Variable(tf.random_normal(shape=[depth], stddev=passive_sd))\n",
    "r2 = tf.Variable(tf.random_normal(shape=[depth], stddev=passive_sd))\n",
    "\n",
    "# kerr gate\n",
    "kappa = tf.Variable(tf.random_normal(shape=[depth], stddev=active_sd))"
   ]
  },
  {
   "cell_type": "markdown",
   "metadata": {},
   "source": [
    "For convenience, we store the TensorFlow variables representing the parameters in a list:"
   ]
  },
  {
   "cell_type": "code",
   "execution_count": 4,
   "metadata": {
    "collapsed": true
   },
   "outputs": [],
   "source": [
    "params = [r1, sq_r, sq_phi, r2, d_r, d_phi, kappa]"
   ]
  },
  {
   "cell_type": "markdown",
   "metadata": {},
   "source": [
    "Now, we can create a function to define the $i$th layer, acting on qumode `q`. This allows us to simply call this function in a loop later on when we build our circuit."
   ]
  },
  {
   "cell_type": "code",
   "execution_count": 5,
   "metadata": {
    "collapsed": true
   },
   "outputs": [],
   "source": [
    "# layer architecture\n",
    "def layer(i, q):\n",
    "    Rgate(r1[i]) | q\n",
    "    Sgate(sq_r[i], sq_phi[i]) | q\n",
    "    Rgate(r2[i]) | q\n",
    "    Dgate(d_r[i], d_phi[i]) | q\n",
    "    Kgate(kappa[i]) | q\n",
    "    \n",
    "    return q"
   ]
  },
  {
   "cell_type": "markdown",
   "metadata": {},
   "source": [
    "## Constructing the circuit\n",
    "\n",
    "Now that we have defined our gate parameters and our layer structure, we can import Strawberry Fields and construct our variational quantum circuit. Note that, to ensure the TensorFlow backend computes the circuit symbolically, we specify `eval=False`."
   ]
  },
  {
   "cell_type": "code",
   "execution_count": 6,
   "metadata": {
    "collapsed": true
   },
   "outputs": [],
   "source": [
    "import strawberryfields as sf\n",
    "from strawberryfields.ops import *"
   ]
  },
  {
   "cell_type": "code",
   "execution_count": 7,
   "metadata": {
    "collapsed": true
   },
   "outputs": [],
   "source": [
    "# Start SF engine\n",
    "engine, q = sf.Engine(1)\n",
    "\n",
    "# Apply circuit of layers with corresponding depth\n",
    "with engine:\n",
    "    for k in range(depth):\n",
    "        layer(k, q[0])\n",
    "\n",
    "# Run engine\n",
    "state = engine.run('tf', cutoff_dim=cutoff, eval=False)\n",
    "ket = state.ket()"
   ]
  },
  {
   "cell_type": "markdown",
   "metadata": {},
   "source": [
    "Note that the output state vector is an unevaluated tensor:"
   ]
  },
  {
   "cell_type": "code",
   "execution_count": 8,
   "metadata": {},
   "outputs": [
    {
     "data": {
      "text/plain": [
       "<tf.Tensor 'ket:0' shape=(10,) dtype=complex64>"
      ]
     },
     "execution_count": 8,
     "metadata": {},
     "output_type": "execute_result"
    }
   ],
   "source": [
    "ket"
   ]
  },
  {
   "cell_type": "markdown",
   "metadata": {},
   "source": [
    "## Performing the optimization\n",
    "\n",
    "$\\newcommand{ket}[1]{\\left|#1\\right\\rangle}$ With the Strawberry Fields TensorFlow backend calculating the resulting state of the circuit symbolically, we can use TensorFlow to optimize the gate parameters to minimize the cost function we specify. With state learning, the measure of distance between two quantum states is given by the fidelity of the output state $\\ket{\\psi}$ with some target state $\\ket{\\psi_t}$. This is defined as the overlap between the two states:\n",
    "\n",
    "$$ F = \\left|\\left\\langle{\\psi}\\mid{\\psi_t}\\right\\rangle\\right|^2$$\n",
    "\n",
    "where the output state can be written $\\ket{\\psi}=U(\\vec{\\theta})\\ket{\\psi_0}$, with $U(\\vec{\\theta})$ the unitary operation applied by the variational quantum circuit, and $\\ket{\\psi_0}=\\ket{0}$ the initial state.\n",
    "\n",
    "Let's define the target state as the single photon state $\\ket{\\psi_t}=\\ket{1}$:"
   ]
  },
  {
   "cell_type": "code",
   "execution_count": 9,
   "metadata": {
    "collapsed": true
   },
   "outputs": [],
   "source": [
    "target_state = np.zeros([cutoff])\n",
    "target_state[1] = 1"
   ]
  },
  {
   "cell_type": "code",
   "execution_count": 10,
   "metadata": {},
   "outputs": [
    {
     "data": {
      "text/plain": [
       "array([ 0.,  1.,  0.,  0.,  0.,  0.,  0.,  0.,  0.,  0.])"
      ]
     },
     "execution_count": 10,
     "metadata": {},
     "output_type": "execute_result"
    }
   ],
   "source": [
    "target_state"
   ]
  },
  {
   "cell_type": "markdown",
   "metadata": {},
   "source": [
    "Using this target state, we calculate the fidelity with the state exiting the variational circuit. We must use TensorFlow functions to manipulate this data, as were are working with symbolic variables!"
   ]
  },
  {
   "cell_type": "code",
   "execution_count": 11,
   "metadata": {
    "collapsed": true
   },
   "outputs": [],
   "source": [
    "fidelity = tf.abs(tf.reduce_sum(tf.conj(ket) * target_state)) ** 2"
   ]
  },
  {
   "cell_type": "markdown",
   "metadata": {},
   "source": [
    "We choose the following cost function:\n",
    "\n",
    "$$C(\\vec{\\theta}) = \\left| \\langle \\psi_t \\mid U(\\vec{\\theta})\\mid 0\\rangle - 1\\right|$$\n",
    "\n",
    "By minimizing this cost function, the variational quantum circuit will prepare a state with high fidelity to the target state."
   ]
  },
  {
   "cell_type": "code",
   "execution_count": 12,
   "metadata": {
    "collapsed": true
   },
   "outputs": [],
   "source": [
    "# Objective function to minimize\n",
    "cost = tf.abs(tf.reduce_sum(tf.conj(ket) * target_state) - 1)"
   ]
  },
  {
   "cell_type": "markdown",
   "metadata": {},
   "source": [
    "Now that the cost function is defined, we can define and run the optimization. Below, we choose the Adam optimizer that is built into TensorFlow."
   ]
  },
  {
   "cell_type": "code",
   "execution_count": 13,
   "metadata": {
    "collapsed": true
   },
   "outputs": [],
   "source": [
    "# Using Adam algorithm for optimization\n",
    "optimiser = tf.train.AdamOptimizer()\n",
    "min_cost = optimiser.minimize(cost)\n",
    "\n",
    "# Begin Tensorflow session\n",
    "session = tf.Session()\n",
    "session.run(tf.global_variables_initializer())"
   ]
  },
  {
   "cell_type": "markdown",
   "metadata": {},
   "source": [
    "We then loop over all repetitions, storing the best predicted fidelity value. "
   ]
  },
  {
   "cell_type": "code",
   "execution_count": 14,
   "metadata": {},
   "outputs": [
    {
     "name": "stdout",
     "output_type": "stream",
     "text": [
      "Rep: 0 Cost: 0.9964 Fidelity: 0.0000\n",
      "Rep: 100 Cost: 0.0288 Fidelity: 0.9456\n",
      "Rep: 200 Cost: 0.0089 Fidelity: 0.9831\n",
      "Rep: 300 Cost: 0.0057 Fidelity: 0.9922\n",
      "Rep: 400 Cost: 0.0041 Fidelity: 0.9961\n",
      "Rep: 500 Cost: 0.0035 Fidelity: 0.9976\n",
      "Rep: 600 Cost: 0.0032 Fidelity: 0.9984\n",
      "Rep: 700 Cost: 0.0030 Fidelity: 0.9987\n",
      "Rep: 800 Cost: 0.0029 Fidelity: 0.9989\n",
      "Rep: 900 Cost: 0.0028 Fidelity: 0.9991\n"
     ]
    }
   ],
   "source": [
    "fid_progress = []\n",
    "best_fid = 0\n",
    "\n",
    "# Run optimization\n",
    "for i in range(reps):\n",
    "\n",
    "    # one repitition of the optimization\n",
    "    _, cost_val, fid_val, ket_val = session.run([min_cost, cost, fidelity, ket])\n",
    "\n",
    "    # Stores fidelity at each step\n",
    "    fid_progress.append(fid_val)\n",
    "    \n",
    "    if fid_val > best_fid:\n",
    "        # store the new best fidelity and best state\n",
    "        best_fid = fid_val\n",
    "        learnt_state = ket_val\n",
    "\n",
    "    # Prints progress at every 10 reps\n",
    "    if i % 100 == 0:\n",
    "        print(\"Rep: {} Cost: {:.4f} Fidelity: {:.4f}\".format(i, cost_val, fid_val))"
   ]
  },
  {
   "cell_type": "markdown",
   "metadata": {},
   "source": [
    "## Results and visualisation"
   ]
  },
  {
   "cell_type": "markdown",
   "metadata": {},
   "source": [
    "Plotting the fidelity vs. optimization step:"
   ]
  },
  {
   "cell_type": "code",
   "execution_count": 15,
   "metadata": {
    "collapsed": true
   },
   "outputs": [],
   "source": [
    "from matplotlib import pyplot as plt\n",
    "%matplotlib inline\n",
    "plt.rcParams['font.family'] = 'serif'\n",
    "plt.rcParams['font.sans-serif'] = ['Computer Modern Roman']\n",
    "plt.style.use('default')"
   ]
  },
  {
   "cell_type": "code",
   "execution_count": 16,
   "metadata": {},
   "outputs": [
    {
     "data": {
      "image/png": "[encoded data removed]",
      "text/plain": [
       "<matplotlib.figure.Figure at 0x7f5b3b7dbf60>"
      ]
     },
     "metadata": {},
     "output_type": "display_data"
    }
   ],
   "source": [
    "plt.plot(fid_progress)\n",
    "plt.ylabel('Fidelity')\n",
    "plt.xlabel('Step');"
   ]
  },
  {
   "cell_type": "markdown",
   "metadata": {},
   "source": [
    "We can use the following function to plot the Wigner function of our target and learnt state:"
   ]
  },
  {
   "cell_type": "code",
   "execution_count": 17,
   "metadata": {
    "collapsed": true,
    "hidden": true
   },
   "outputs": [],
   "source": [
    "import matplotlib.pyplot as plt\n",
    "from mpl_toolkits.mplot3d import Axes3D\n",
    "\n",
    "def wigner(rho):\n",
    "    \"\"\"This code is a modified version of the ‘iterative’ method\n",
    "    of the wigner function provided in QuTiP, which is released\n",
    "    under the BSD license, with the following copyright notice:\n",
    "\n",
    "    Copyright (C) 2011 and later, P.D. Nation, J.R. Johansson,\n",
    "    A.J.G. Pitchford, C. Granade, and A.L. Grimsmo.\n",
    "    \n",
    "    All rights reserved.\"\"\"\n",
    "    import copy\n",
    "    # Domain parameter for Wigner function plots\n",
    "    l = 5.0\n",
    "    cutoff = rho.shape[0]\n",
    "\n",
    "    # Creates 2D grid for Wigner function plots\n",
    "    x = np.linspace(-l, l, 100)\n",
    "    p = np.linspace(-l, l, 100)\n",
    "\n",
    "    Q, P = np.meshgrid(x, p)\n",
    "    A = (Q + P * 1.0j) / (2 * np.sqrt(2 / 2))\n",
    "\n",
    "    Wlist = np.array([np.zeros(np.shape(A), dtype=complex) for k in range(cutoff)])\n",
    "\n",
    "    # Wigner function for |0><0|\n",
    "    Wlist[0] = np.exp(-2.0 * np.abs(A) ** 2) / np.pi\n",
    "\n",
    "    # W = rho(0,0)W(|0><0|)\n",
    "    W = np.real(rho[0, 0]) * np.real(Wlist[0])\n",
    "\n",
    "    for n in range(1, cutoff):\n",
    "        Wlist[n] = (2.0 * A * Wlist[n - 1]) / np.sqrt(n)\n",
    "        W += 2 * np.real(rho[0, n] * Wlist[n])\n",
    "\n",
    "    for m in range(1, cutoff):\n",
    "        temp = copy.copy(Wlist[m])\n",
    "        # Wlist[m] = Wigner function for |m><m|\n",
    "        Wlist[m] = (2 * np.conj(A) * temp - np.sqrt(m)\n",
    "                    * Wlist[m - 1]) / np.sqrt(m)\n",
    "\n",
    "        # W += rho(m,m)W(|m><m|)\n",
    "        W += np.real(rho[m, m] * Wlist[m])\n",
    "\n",
    "        for n in range(m + 1, cutoff):\n",
    "            temp2 = (2 * A * Wlist[n - 1] - np.sqrt(m) * temp) / np.sqrt(n)\n",
    "            temp = copy.copy(Wlist[n])\n",
    "            # Wlist[n] = Wigner function for |m><n|\n",
    "            Wlist[n] = temp2\n",
    "\n",
    "            # W += rho(m,n)W(|m><n|) + rho(n,m)W(|n><m|)\n",
    "            W += 2 * np.real(rho[m, n] * Wlist[n])\n",
    "\n",
    "    return Q, P, W / 2"
   ]
  },
  {
   "cell_type": "markdown",
   "metadata": {},
   "source": [
    "Computing the density matrices $\\rho = \\left|\\psi\\right\\rangle \\left\\langle\\psi\\right|$ of the target and learnt state,"
   ]
  },
  {
   "cell_type": "code",
   "execution_count": 18,
   "metadata": {
    "collapsed": true
   },
   "outputs": [],
   "source": [
    "rho_target = np.outer(target_state, target_state.conj())\n",
    "rho_learnt = np.outer(learnt_state, learnt_state.conj())"
   ]
  },
  {
   "cell_type": "markdown",
   "metadata": {},
   "source": [
    "Plotting the Wigner function of the target state:"
   ]
  },
  {
   "cell_type": "code",
   "execution_count": 19,
   "metadata": {
    "hidden": true
   },
   "outputs": [
    {
     "data": {
      "image/png": "[encoded data removed]",
      "text/plain": [
       "<matplotlib.figure.Figure at 0x7f4cc88002e8>"
      ]
     },
     "metadata": {},
     "output_type": "display_data"
    }
   ],
   "source": [
    "fig = plt.figure()\n",
    "ax = fig.add_subplot(111, projection=\"3d\")\n",
    "X, P, W = wigner(rho_target)\n",
    "ax.plot_surface(X, P, W, cmap=\"RdYlGn\", lw=0.5, rstride=1, cstride=1)\n",
    "ax.contour(X, P, W, 10, cmap=\"RdYlGn\", linestyles=\"solid\", offset=-0.17)\n",
    "ax.set_axis_off()"
   ]
  },
  {
   "cell_type": "markdown",
   "metadata": {},
   "source": [
    "Plotting the Wigner function of the learnt state:"
   ]
  },
  {
   "cell_type": "code",
   "execution_count": 20,
   "metadata": {},
   "outputs": [
    {
     "data": {
      "image/png": "[encoded data removed]",
      "text/plain": [
       "<matplotlib.figure.Figure at 0x7f4cc8790080>"
      ]
     },
     "metadata": {},
     "output_type": "display_data"
    }
   ],
   "source": [
    "fig = plt.figure()\n",
    "ax = fig.add_subplot(111, projection=\"3d\")\n",
    "X, P, W = wigner(rho_learnt)\n",
    "ax.plot_surface(X, P, W, cmap=\"RdYlGn\", lw=0.5, rstride=1, cstride=1)\n",
    "ax.contour(X, P, W, 10, cmap=\"RdYlGn\", linestyles=\"solid\", offset=-0.17)\n",
    "ax.set_axis_off()"
   ]
  },
  {
   "cell_type": "markdown",
   "metadata": {},
   "source": [
    "## References\n",
    "\n",
    "[1] Juan Miguel Arrazola, Thomas R. Bromley, Josh Izaac, Casey R. Myers, Kamil Brádler, and Nathan Killoran. Machine learning method for state preparation and gate synthesis on photonic quantum computers. arXiv, 2018. [arXiv:1807.10781](https://arxiv.org/abs/1807.10781)\n",
    "\n",
    "[2] Killoran, N., Bromley, T. R., Arrazola, J. M., Schuld, M., Quesada, N., & Lloyd, S. \"Continuous-variable quantum neural networks.\" arXiv, 2018. <a href=https://arxiv.org/abs/1806.06871>arXiv:1806.06871</a>"
   ]
  }
 ],
 "metadata": {
  "kernelspec": {
   "display_name": "Python 3",
   "language": "python",
   "name": "python3"
  },
  "language_info": {
   "codemirror_mode": {
    "name": "ipython",
    "version": 3
   },
   "file_extension": ".py",
   "mimetype": "text/x-python",
   "name": "python",
   "nbconvert_exporter": "python",
   "pygments_lexer": "ipython3",
   "version": "3.5.2"
  },
  "toc": {
   "nav_menu": {},
   "number_sections": true,
   "sideBar": true,
   "skip_h1_title": false,
   "toc_cell": false,
   "toc_position": {},
   "toc_section_display": "block",
   "toc_window_display": false
  }
 },
 "nbformat": 4,
 "nbformat_minor": 2
}
